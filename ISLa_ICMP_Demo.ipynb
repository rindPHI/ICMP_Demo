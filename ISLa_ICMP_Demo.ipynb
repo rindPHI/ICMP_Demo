{
 "cells": [
  {
   "cell_type": "code",
   "execution_count": 1,
   "id": "534ea0da-6669-40d7-8c5b-59c510e51ca9",
   "metadata": {
    "tags": []
   },
   "outputs": [],
   "source": [
    "import random\n",
    "random.seed(1000)"
   ]
  },
  {
   "cell_type": "markdown",
   "id": "c9e6b349-b5ed-4e9c-b9f9-5d4c200350f5",
   "metadata": {},
   "source": [
    "# Learning ICMP (PING) Properties\n",
    "\n",
    "The goal of this notebook is to demonstrate how, in principle, contect-sensitive constraints on top context-free grammars can be learned in a black-box fashion from *patters* of abstract constraints. Here's the definition of the IP/ICMP format from Wikipedia:"
   ]
  },
  {
   "cell_type": "markdown",
   "id": "0e1633b9-18a7-4e1b-849f-8aa12ceacefa",
   "metadata": {},
   "source": [
    "<table class=\"wikitable\">\n",
    "<caption>IPv4 datagram (from <a href=\"https://en.wikipedia.org/wiki/Ping_(networking_utility)#ICMP_packet\">https://en.wikipedia.org/wiki/Ping_(networking_utility)#ICMP_packet</a>)</caption>\n",
    "<tbody><tr style=\"background:#dedede\">\n",
    "<th>&#160;\n",
    "</th>\n",
    "<th scope=\"col\" style=\"width:110px;\">Bits 0&#8211;7\n",
    "</th>\n",
    "<th scope=\"col\" style=\"width:110px;\">Bits 8&#8211;15\n",
    "</th>\n",
    "<th scope=\"col\" style=\"width:110px;\">Bits 16&#8211;23\n",
    "</th>\n",
    "<th scope=\"col\" style=\"width:110px;\">Bits 24&#8211;31\n",
    "</th></tr>\n",
    "<tr style=\"background:#e8e8ff;\">\n",
    "<th rowspan=\"5\" style=\"background:#dedede\"><a href=\"/wiki/IPv4_Header\" class=\"mw-redirect\" title=\"IPv4 Header\">Header</a><br />(20 bytes)\n",
    "</th>\n",
    "<td>Version/IHL\n",
    "</td>\n",
    "<td>Type of service (ToS)\n",
    "</td>\n",
    "<td colspan=\"2\">Length\n",
    "</td></tr>\n",
    "<tr style=\"background:#e8e8ff;\">\n",
    "<td colspan=\"2\">Identification\n",
    "</td>\n",
    "<td colspan=\"2\"><i>flags</i> and <i>offset</i>\n",
    "</td></tr>\n",
    "<tr style=\"background:#e8e8ff;\">\n",
    "<td>Time to live (TTL)\n",
    "</td>\n",
    "<td>Protocol\n",
    "</td>\n",
    "<td colspan=\"2\">Header checksum\n",
    "</td></tr>\n",
    "<tr style=\"background:#e8e8ff;\">\n",
    "<td colspan=\"4\">Source IP address\n",
    "</td></tr>\n",
    "<tr style=\"background:#e8e8ff;\">\n",
    "<td colspan=\"4\">Destination IP address\n",
    "</td></tr>\n",
    "<tr style=\"background:#ffe8e8;\">\n",
    "<th rowspan=\"2\" style=\"background:#dedede\">ICMP header<br />(8 bytes)\n",
    "</th>\n",
    "<td>Type of message\n",
    "</td>\n",
    "<td>Code\n",
    "</td>\n",
    "<td colspan=\"2\">Checksum\n",
    "</td></tr>\n",
    "<tr style=\"background:#ffe8e8;\">\n",
    "<td colspan=\"4\">Header data\n",
    "</td></tr>\n",
    "<tr style=\"background:#ffe8e8;\">\n",
    "<th style=\"background:#dedede\">ICMP payload<br />(<i>optional</i>)\n",
    "</th>\n",
    "<td colspan=\"4\">Payload data\n",
    "</td></tr></tbody></table>"
   ]
  },
  {
   "cell_type": "markdown",
   "id": "65c6029f-ea64-4938-8b65-6ac9629aa401",
   "metadata": {},
   "source": [
    "Generic composition of an ICMP packet:\n",
    "\n",
    "- IPv4 Header (in blue): protocol set to 1 (ICMP) and Type of Service set to 0.\n",
    "- ICMP Header (in red):\n",
    "- Type of ICMP message (8 bits)\n",
    "  + Code (8 bits)\n",
    "  + Checksum (16 bits), the 16-bit one's complement of the one's complement sum of the packet. For IPv4, this is calculated from the ICMP message starting with the Type field (the IP header is not included).\n",
    "  + Header Data (32 bits) field, which in this case (ICMP echo request and replies), will be composed of an identifier (16 bits) and sequence number (16 bits).\n",
    "  + ICMP Payload: payload for the different kind of answers; can be an arbitrary length, left to implementation detail. However, the packet including IP and ICMP headers must be less than the maximum transmission unit of the network or risk being fragmented."
   ]
  },
  {
   "cell_type": "markdown",
   "id": "f785f02c-09a0-46ce-9933-5072393a2fa9",
   "metadata": {},
   "source": [
    "<table class=\"wikitable\">\n",
    "    <caption>Echo request ICMP/IPv4 packet</caption>\n",
    "<tbody><tr>\n",
    "<th>00</th>\n",
    "<th>01</th>\n",
    "<th>02</th>\n",
    "<th>03</th>\n",
    "<th>04</th>\n",
    "<th>05</th>\n",
    "<th>06</th>\n",
    "<th>07\n",
    "</th>\n",
    "<th>08</th>\n",
    "<th>09</th>\n",
    "<th>10</th>\n",
    "<th>11</th>\n",
    "<th>12</th>\n",
    "<th>13</th>\n",
    "<th>14</th>\n",
    "<th>15\n",
    "</th>\n",
    "<th>16</th>\n",
    "<th>17</th>\n",
    "<th>18</th>\n",
    "<th>19</th>\n",
    "<th>20</th>\n",
    "<th>21</th>\n",
    "<th>22</th>\n",
    "<th>23\n",
    "</th>\n",
    "<th>24</th>\n",
    "<th>25</th>\n",
    "<th>26</th>\n",
    "<th>27</th>\n",
    "<th>28</th>\n",
    "<th>29</th>\n",
    "<th>30</th>\n",
    "<th>31\n",
    "</th></tr>\n",
    "<tr style=\"text-align:center;\">\n",
    "<td colspan=\"8\">Type = 8(IPv4, ICMP)\n",
    "</td>\n",
    "<td colspan=\"8\">Code = 0\n",
    "</td>\n",
    "<td colspan=\"16\">Checksum\n",
    "</td></tr>\n",
    "<tr style=\"text-align:center;\">\n",
    "<td colspan=\"16\">Identifier\n",
    "</td>\n",
    "<td colspan=\"16\">Sequence Number\n",
    "</td></tr>\n",
    "<tr>\n",
    "<td colspan=\"32\" style=\"text-align:center;\">Payload\n",
    "</td></tr></tbody></table>"
   ]
  },
  {
   "cell_type": "markdown",
   "id": "5f199913-4499-40a3-8047-e07834d663f1",
   "metadata": {},
   "source": [
    "We first define the syntax of ICMP packets embedded into IP packets as a context-free grammar."
   ]
  },
  {
   "cell_type": "code",
   "execution_count": 2,
   "id": "64e130e5-a93d-4755-9cad-16bda04d53e3",
   "metadata": {
    "tags": []
   },
   "outputs": [],
   "source": [
    "icmp_grammar = r\"\"\"\n",
    "    <start>        ::= <ip_packet>\n",
    "    <ip_packet>    ::= <ip_header> <icmp_packet>\n",
    "    <ip_header>    ::= <version_ihl> <ToS> <length> <ip_id> <flags_offset> <ttl>\n",
    "                       <protocol> <ip_checksum> <source_ip> <dest_id>\n",
    "    <icmp_packet>  ::= <type> <code> <checksum> <icmp_id> <seq> <icmp_payload>\n",
    "    \n",
    "    <version_ihl>  ::= <byte>\n",
    "    <ToS>          ::= <byte>\n",
    "    <length>       ::= <byte> <byte>\n",
    "    <ip_id>        ::= <byte> <byte>\n",
    "    <flags_offset> ::= <byte> <byte>\n",
    "    <ttl>          ::= <byte>\n",
    "    <protocol>     ::= <byte>\n",
    "    <ip_checksum>  ::= <byte> <byte>\n",
    "    <source_ip>    ::= <byte> <byte> <byte> <byte>\n",
    "    <dest_id>      ::= <byte> <byte> <byte> <byte>\n",
    "    \n",
    "    <type>         ::= <byte>\n",
    "    <code>         ::= <byte>\n",
    "    <checksum>     ::= <byte> <byte>\n",
    "    <icmp_id>      ::= <byte> <byte>\n",
    "    <seq>          ::= <byte> <byte>\n",
    "    <icmp_payload> ::= <bytes>\n",
    "    \n",
    "    <bytes>        ::= <byte> <bytes> | \"\"\n",
    "    <byte>         ::= \"\\x00\" | \"\\x01\" | \"\\x02\" | \"\\x03\" | \"\\x04\" | \"\\x05\"\n",
    "                     | \"\\x06\" | \"\\x07\" | \"\\x08\" | \"\\t\" | \"\\n\" | \"\\x0b\"\n",
    "                     | \"\\x0c\" | \"\\r\" | \"\\x0e\" | \"\\x0f\" | \"\\x10\" | \"\\x11\"\n",
    "                     | \"\\x12\" | \"\\x13\" | \"\\x14\" | \"\\x15\" | \"\\x16\" | \"\\x17\"\n",
    "                     | \"\\x18\" | \"\\x19\" | \"\\x1a\" | \"\\x1b\" | \"\\x1c\" | \"\\x1d\"\n",
    "                     | \"\\x1e\" | \"\\x1f\" | \" \" | \"!\" | \"\\\"\" | \"#\" | \"$\" | \"%\"\n",
    "                     | \"&\" | \"'\" | \"(\" | \")\" | \"*\" | \"+\" | \",\" | \"-\" | \".\"\n",
    "                     | \"/\" | \"0\" | \"1\" | \"2\" | \"3\" | \"4\" | \"5\" | \"6\" | \"7\"\n",
    "                     | \"8\" | \"9\" | \":\" | \";\" | \"<\" | \"=\" | \">\" | \"?\" | \"@\"\n",
    "                     | \"A\" | \"B\" | \"C\" | \"D\" | \"E\" | \"F\" | \"G\" | \"H\" | \"I\"\n",
    "                     | \"J\" | \"K\" | \"L\" | \"M\" | \"N\" | \"O\" | \"P\" | \"Q\" | \"R\"\n",
    "                     | \"S\" | \"T\" | \"U\" | \"V\" | \"W\" | \"X\" | \"Y\" | \"Z\" | \"[\"\n",
    "                     | \"\\\\\" | \"]\" | \"^\" | \"_\" | \"`\" | \"a\" | \"b\" | \"c\" | \"d\"\n",
    "                     | \"e\" | \"f\" | \"g\" | \"h\" | \"i\" | \"j\" | \"k\" | \"l\" | \"m\"\n",
    "                     | \"n\" | \"o\" | \"p\" | \"q\" | \"r\" | \"s\" | \"t\" | \"u\" | \"v\"\n",
    "                     | \"w\" | \"x\" | \"y\" | \"z\" | \"{\" | \"|\" | \"}\" | \"~\"\n",
    "                     | \"\\x7f\" | \"\\x80\" | \"\\x81\" | \"\\x82\" | \"\\x83\" | \"\\x84\"\n",
    "                     | \"\\x85\" | \"\\x86\" | \"\\x87\" | \"\\x88\" | \"\\x89\" | \"\\x8a\"\n",
    "                     | \"\\x8b\" | \"\\x8c\" | \"\\x8d\" | \"\\x8e\" | \"\\x8f\" | \"\\x90\"\n",
    "                     | \"\\x91\" | \"\\x92\" | \"\\x93\" | \"\\x94\" | \"\\x95\" | \"\\x96\"\n",
    "                     | \"\\x97\" | \"\\x98\" | \"\\x99\" | \"\\x9a\" | \"\\x9b\" | \"\\x9c\"\n",
    "                     | \"\\x9d\" | \"\\x9e\" | \"\\x9f\" | \"\\xa0\" | \"\\xa1\" | \"\\xa2\"\n",
    "                     | \"\\xa3\" | \"\\xa4\" | \"\\xa5\" | \"\\xa6\" | \"\\xa7\" | \"\\xa8\"\n",
    "                     | \"\\xa9\" | \"\\xaa\" | \"\\xab\" | \"\\xac\" | \"\\xad\" | \"\\xae\"\n",
    "                     | \"\\xaf\" | \"\\xb0\" | \"\\xb1\" | \"\\xb2\" | \"\\xb3\" | \"\\xb4\"\n",
    "                     | \"\\xb5\" | \"\\xb6\" | \"\\xb7\" | \"\\xb8\" | \"\\xb9\" | \"\\xba\"\n",
    "                     | \"\\xbb\" | \"\\xbc\" | \"\\xbd\" | \"\\xbe\" | \"\\xbf\" | \"\\xc0\"\n",
    "                     | \"\\xc1\" | \"\\xc2\" | \"\\xc3\" | \"\\xc4\" | \"\\xc5\" | \"\\xc6\"\n",
    "                     | \"\\xc7\" | \"\\xc8\" | \"\\xc9\" | \"\\xca\" | \"\\xcb\" | \"\\xcc\"\n",
    "                     | \"\\xcd\" | \"\\xce\" | \"\\xcf\" | \"\\xd0\" | \"\\xd1\" | \"\\xd2\"\n",
    "                     | \"\\xd3\" | \"\\xd4\" | \"\\xd5\" | \"\\xd6\" | \"\\xd7\" | \"\\xd8\"\n",
    "                     | \"\\xd9\" | \"\\xda\" | \"\\xdb\" | \"\\xdc\" | \"\\xdd\" | \"\\xde\"\n",
    "                     | \"\\xdf\" | \"\\xe0\" | \"\\xe1\" | \"\\xe2\" | \"\\xe3\" | \"\\xe4\"\n",
    "                     | \"\\xe5\" | \"\\xe6\" | \"\\xe7\" | \"\\xe8\" | \"\\xe9\" | \"\\xea\"\n",
    "                     | \"\\xeb\" | \"\\xec\" | \"\\xed\" | \"\\xee\" | \"\\xef\" | \"\\xf0\"\n",
    "                     | \"\\xf1\" | \"\\xf2\" | \"\\xf3\" | \"\\xf4\" | \"\\xf5\" | \"\\xf6\"\n",
    "                     | \"\\xf7\" | \"\\xf8\" | \"\\xf9\" | \"\\xfa\" | \"\\xfb\" | \"\\xfc\"\n",
    "                     | \"\\xfd\" | \"\\xfe\" | \"\\xff\"\n",
    "\"\"\""
   ]
  },
  {
   "cell_type": "markdown",
   "id": "aed038ff-c1f4-4f5c-9334-4e068ad167fa",
   "metadata": {},
   "source": [
    "From this grammar, we can already generate random strings that syntactically resemble IP packet-like structures.\n",
    "To demonstrate this, we build a function leveraging the `scapy` library to parse strings into datastructures.\n",
    "This function, `ip_packet_from_string`, also sets the source and destination IP addresses to 127.0.0.1 for later demonstration purposes."
   ]
  },
  {
   "cell_type": "code",
   "execution_count": 3,
   "id": "fe3ebd5e-7c64-4d2b-9acd-62e70afc422c",
   "metadata": {
    "tags": []
   },
   "outputs": [
    {
     "name": "stderr",
     "output_type": "stream",
     "text": [
      "WARNING: No IPv4 address found on en5 !\n",
      "WARNING: No IPv4 address found on ap1 !\n",
      "WARNING: more No IPv4 address found on awdl0 !\n"
     ]
    }
   ],
   "source": [
    "import scapy.all as scapy"
   ]
  },
  {
   "cell_type": "code",
   "execution_count": 4,
   "id": "5225f1ea-bb15-4477-b319-91e3c0a75e93",
   "metadata": {
    "tags": []
   },
   "outputs": [],
   "source": [
    "def ip_packet_from_string(str_packet: str) -> scapy.IP:\n",
    "    \"\"\"\n",
    "    :return: A scapy packet from the given string. Sets source and destination of the packet to 127.0.0.1.\n",
    "    \"\"\"\n",
    "    \n",
    "    packet = scapy.IP(str(str_packet).encode(\"latin1\"))\n",
    "    packet[scapy.IP].src = \"127.0.0.1\"\n",
    "    packet[scapy.IP].dst = \"127.0.0.1\"\n",
    "    return packet"
   ]
  },
  {
   "cell_type": "markdown",
   "id": "b0e61997-26a0-49c2-ab8b-0e2fd93349e5",
   "metadata": {},
   "source": [
    "Using the ISLa solver and `ip_packet_from_string`, we generate a random IP packet and inspect its structure."
   ]
  },
  {
   "cell_type": "code",
   "execution_count": 5,
   "id": "2067c7cc-a638-4de5-8cfb-96b6ee71f0ba",
   "metadata": {
    "tags": []
   },
   "outputs": [],
   "source": [
    "from isla.solver import ISLaSolver"
   ]
  },
  {
   "cell_type": "code",
   "execution_count": 6,
   "id": "4e230313-d4a3-4e78-9e03-6d7448bec8b3",
   "metadata": {
    "tags": []
   },
   "outputs": [
    {
     "data": {
      "text/plain": [
       "'3é]vù6(ÇËÑ|ÒJm9û\\x16Á¿EÝI=Äô^\\xadî'"
      ]
     },
     "execution_count": 6,
     "metadata": {},
     "output_type": "execute_result"
    }
   ],
   "source": [
    "solver = ISLaSolver(icmp_grammar)\n",
    "random_ip_string = str(solver.solve())\n",
    "random_ip_string"
   ]
  },
  {
   "cell_type": "code",
   "execution_count": 7,
   "id": "f337d4d0-3e97-4853-8a3b-e6c8a776c271",
   "metadata": {
    "tags": []
   },
   "outputs": [
    {
     "name": "stdout",
     "output_type": "stream",
     "text": [
      "###[ IP ]### \n",
      "  version   = 3\n",
      "  ihl       = 3\n",
      "  tos       = 0xe9\n",
      "  len       = 23926\n",
      "  id        = 63798\n",
      "  flags     = MF\n",
      "  frag      = 2247\n",
      "  ttl       = 203\n",
      "  proto     = 209\n",
      "  chksum    = 0x7cd2\n",
      "  src       = 127.0.0.1\n",
      "  dst       = 127.0.0.1\n",
      "  \\options   \\\n",
      "###[ Raw ]### \n",
      "     load      = '\\\\xddI=\\\\xc4\\\\xf4^\\\\xad\\\\xee'\n",
      "\n"
     ]
    }
   ],
   "source": [
    "packet = ip_packet_from_string(random_ip_string)\n",
    "packet.show()"
   ]
  },
  {
   "cell_type": "markdown",
   "id": "aff3481f-3da1-43de-a21d-5fffba5337e0",
   "metadata": {},
   "source": [
    "This packet does not have a PING layer:"
   ]
  },
  {
   "cell_type": "code",
   "execution_count": 8,
   "id": "d0a833bf-a9d7-470e-9392-9969651c2576",
   "metadata": {
    "tags": []
   },
   "outputs": [
    {
     "data": {
      "text/plain": [
       "[scapy.layers.inet.IP, scapy.packet.Raw]"
      ]
     },
     "execution_count": 8,
     "metadata": {},
     "output_type": "execute_result"
    }
   ],
   "source": [
    "packet.layers()"
   ]
  },
  {
   "cell_type": "markdown",
   "id": "9f3ded1a-ad10-4de2-8b67-123bf427c280",
   "metadata": {},
   "source": [
    "To learn properties of ICMP Echo Requests (aka PING packets), we need some kind of oracle telling us if an IP packet is a correct Echo Request packet.\n",
    "This can be done most realistically by sending the supposed request, waiting for an answer and asserting that the answer is a ICMP Echo *reply.*\n",
    "The function `test_ping` accomplishes this."
   ]
  },
  {
   "cell_type": "code",
   "execution_count": 9,
   "id": "d680ae0c-4496-4858-a7f5-9b6f794df9eb",
   "metadata": {
    "tags": []
   },
   "outputs": [],
   "source": [
    "def test_ping(packet: scapy.IP) -> None:\n",
    "    TIMEOUT = 1\n",
    "    scapy.conf.verb = 0\n",
    "    reply = scapy.sr1(packet, timeout=TIMEOUT)\n",
    "    return reply is not None and scapy.ICMP in reply.layers()"
   ]
  },
  {
   "cell_type": "code",
   "execution_count": 10,
   "id": "4a27d763-b80d-4656-95e8-070d5e0a19ff",
   "metadata": {
    "tags": []
   },
   "outputs": [
    {
     "data": {
      "text/plain": [
       "False"
      ]
     },
     "execution_count": 10,
     "metadata": {},
     "output_type": "execute_result"
    }
   ],
   "source": [
    "test_ping(packet)"
   ]
  },
  {
   "cell_type": "markdown",
   "id": "6dfe4c47-a4a9-4887-84c5-3a8af77ac2c0",
   "metadata": {},
   "source": [
    "Next, we manually specify a sufficiently strong ISLa constraint to set the baseline for the learning approach.\n",
    "\n",
    "The following properties need to be formalized for the packet to be valid in all cases (you can later on try to deactivate some of the conjuncts to validate that they are indeed necessary):\n",
    "\n",
    "- The IP `version_ihl` byte must take the value 45\n",
    "- The IP `ToS` byte must take the value 0\n",
    "- The IP `protocol` byte must take the value 1\n",
    "- The IP `flags_offset` bytes must both take the value 0\n",
    "- The ICMP `type` byte must take the value 8\n",
    "- The ICMP `code` byte must take the value 0\n",
    "- The ICMP `icmp_id` bytes must both take the value 0\n",
    "- The ICMP `seq` bytes must both take the value 0\n",
    "- The IP `length` bytes must correctly reflect the length of the entire IP packet, which varies in the length of the variable ICMP payload\n",
    "- The ICMP checksum `checksum` must be correct (note: the IP checksum `ip_checksum` field seems not to matter, which can also be an interesting result of automatic constraint mining!)\n",
    "\n",
    "Most constraints can be formalized in \"vanilla\" ISLa, i.e., with SMT LIB functions and one semantic predicate (`count`).\n",
    "For the ICMP checksum, however, we have to extend the ISLa language by a suitable semantic predicate.\n",
    "First, we define a function `compute_internet_checksum` computing that checksum (essentially the 16-bit one's complement of the one's complement sum of the packet)."
   ]
  },
  {
   "cell_type": "code",
   "execution_count": 11,
   "id": "bc3a6bf1-54fd-49f5-b2fe-4b33da8551a3",
   "metadata": {
    "tags": []
   },
   "outputs": [],
   "source": [
    "from typing import Tuple"
   ]
  },
  {
   "cell_type": "code",
   "execution_count": 12,
   "id": "5b49ac5a-3f15-442d-a1d2-135c48e80825",
   "metadata": {
    "tags": []
   },
   "outputs": [],
   "source": [
    "def compute_internet_checksum(inp_bytes: Tuple[int, ...], length=16) -> int:\n",
    "    if len(inp_bytes) % 2 != 0:\n",
    "        inp_bytes = tuple(inp_bytes) + (0x00,)\n",
    "\n",
    "    assert all(inp_byte <= 0xFF for inp_byte in inp_bytes)\n",
    "    assert length < 8 or length % 8 == 0\n",
    "\n",
    "    if length < 8:\n",
    "        # This is only for testing purposes\n",
    "        elements = list(inp_bytes)\n",
    "    else:\n",
    "        assert length == 16\n",
    "        elements: List[int] = []\n",
    "        for i in range(0, len(inp_bytes), 2):\n",
    "            elements.append((inp_bytes[i] << 8) + inp_bytes[i + 1])\n",
    "\n",
    "    carry_mask = 2**length\n",
    "    no_carry_mask = 2**length - 1\n",
    "\n",
    "    elements_sum = 0\n",
    "    for element in elements:\n",
    "        elements_sum += element\n",
    "        elements_sum = (elements_sum & no_carry_mask) + (\n",
    "            (elements_sum & carry_mask) >> length\n",
    "        )\n",
    "\n",
    "    return elements_sum ^ no_carry_mask"
   ]
  },
  {
   "cell_type": "markdown",
   "id": "8daddfab-acd5-4684-adda-45a550dbc8da",
   "metadata": {},
   "source": [
    "Next, we need a `SemanticPredicate` object for `internet_checksum`.\n",
    "Each such semantic predicate comes with its own solver that can return `True` or `False` like a normal predicate, but also an *assignment* with a correct solution.\n",
    "Our solver function `internet_checksum` either returns `True` or a correct assignment, but never `False`.\n",
    "We do not expect a blackbox constraint inference approach to come up with such complicated implementations itself.\n",
    "Rather, we assume that we implement re-occurring checksum algorithms and use them in a catalog of constraint patterns.\n",
    "The Internet checksum, for example, is used in many Internet protocols and possibly other protocols, too, as its idea is not too esoteric."
   ]
  },
  {
   "cell_type": "code",
   "execution_count": 13,
   "id": "1d645f24-5aae-4d0f-bc0c-8a0bd8ec1f66",
   "metadata": {
    "tags": []
   },
   "outputs": [],
   "source": [
    "from typing import Optional\n",
    "\n",
    "from isla.derivation_tree import DerivationTree\n",
    "from isla.language import SemPredEvalResult, SemanticPredicate\n",
    "from isla.type_defs import Grammar"
   ]
  },
  {
   "cell_type": "code",
   "execution_count": 14,
   "id": "290dca54-6ca1-4fd0-ae43-3a3d4aea0bb0",
   "metadata": {
    "tags": []
   },
   "outputs": [],
   "source": [
    "def internet_checksum(\n",
    "    _: Optional[Grammar], header: DerivationTree, checksum_tree: DerivationTree\n",
    ") -> SemPredEvalResult:\n",
    "    if not header.is_complete():\n",
    "        return SemPredEvalResult(None)\n",
    "\n",
    "    checksum_nonterminal = checksum_tree.root_nonterminal()\n",
    "\n",
    "    zero_checksum = (\n",
    "        checksum_nonterminal,\n",
    "        [(\"<byte>\", [(\"\\x00\", [])]), (\"<byte>\", [(\"\\x00\", [])])],\n",
    "    )\n",
    "\n",
    "    header_wo_checksum = header.replace_path(\n",
    "        header.find_node(checksum_tree),\n",
    "        DerivationTree.from_parse_tree(zero_checksum),\n",
    "    )\n",
    "\n",
    "    header_bytes: Tuple[int] = tuple(str(header_wo_checksum).encode(\"latin1\"))\n",
    "\n",
    "    checksum_value: str = (\n",
    "        compute_internet_checksum(header_bytes).to_bytes(2, \"big\").decode(\"latin1\")\n",
    "    )\n",
    "\n",
    "    if checksum_value == str(checksum_tree):\n",
    "        return SemPredEvalResult(True)\n",
    "\n",
    "    new_checksum_tree = DerivationTree(\n",
    "        value=checksum_nonterminal,\n",
    "        id=checksum_tree.id,\n",
    "        children=(\n",
    "            DerivationTree(\n",
    "                value=checksum_tree.children[0].value,\n",
    "                id=checksum_tree.children[0].id,\n",
    "                children=(DerivationTree(checksum_value[0], children=()),),\n",
    "            ),\n",
    "            DerivationTree(\n",
    "                value=checksum_tree.children[1].value,\n",
    "                id=checksum_tree.children[1].id,\n",
    "                children=(DerivationTree(checksum_value[1], children=()),),\n",
    "            ),\n",
    "        ),\n",
    "    )\n",
    "\n",
    "    return SemPredEvalResult({checksum_tree: new_checksum_tree})"
   ]
  },
  {
   "cell_type": "markdown",
   "id": "3be5eb45-7c2b-4b7d-be57-5bda9bf0fd82",
   "metadata": {},
   "source": [
    "Based on the solver function, we define the actual predicate."
   ]
  },
  {
   "cell_type": "code",
   "execution_count": 15,
   "id": "2af82655-4a7d-402f-8137-28d00f572cd5",
   "metadata": {
    "tags": []
   },
   "outputs": [],
   "source": [
    "INTERNET_CHECKSUM_PREDICATE = SemanticPredicate(\n",
    "    \"internet_checksum\", 2, internet_checksum, binds_tree=False, order=100\n",
    ")"
   ]
  },
  {
   "cell_type": "markdown",
   "id": "82cfc0ba-7f28-4c6e-aed3-ad6e37d57fd5",
   "metadata": {},
   "source": [
    "Now, we are set to define the constraints.\n",
    "Most of them are straightforward; the constraint for the length field, however, deserves some explanation:"
   ]
  },
  {
   "cell_type": "markdown",
   "id": "3a941d00-237d-4ab0-902e-11ee8b76c787",
   "metadata": {},
   "source": [
    "```\n",
    "exists int num_bytes: (\n",
    "  count(<ip_packet>, \"<byte>\", num_bytes) and\n",
    "  str.to.int(num_bytes) < 40 and\n",
    "  256 * str.to_code(<length>.<byte>[1]) + \n",
    "    str.to_code(<length>.<byte>[2]) =\n",
    "       str.to.int(num_bytes)\n",
    ")\n",
    "```"
   ]
  },
  {
   "cell_type": "markdown",
   "id": "91ccb8fd-0e08-4170-9360-5f07d5e76b21",
   "metadata": {},
   "source": [
    "This constraint binds the integer value of the two `<length>` bytes to a numeric variable `num_bytes` using an equation in standard SMT-LIB format (based on the string and integer arithmetic theories) and an existential quantifier.\n",
    "In the quantifier scope, the solution of this equation is then bound to the number of bytes in the `<ip_packet>` structure using the semantic `count` predicate which is built into ISLa.\n",
    "The part `str.to.int(num_bytes) < 40` has been added since otherwise, count is currently to slow in producing a solution.\n",
    "This is an unfortunate implementation issue on which we are currently working."
   ]
  },
  {
   "cell_type": "code",
   "execution_count": 16,
   "id": "354bc706-133f-410d-93d7-a375cee14985",
   "metadata": {
    "tags": []
   },
   "outputs": [],
   "source": [
    "constraints = r'''\n",
    "  <version_ihl> = \"\\u{45}\" and\n",
    "  <ToS> = \"\\u{0}\" and\n",
    "  <protocol> = \"\\u{1}\" and\n",
    "  <type> = \"\\u{8}\" and\n",
    "  <code> = \"\\u{0}\" and\n",
    "  <flags_offset> = \"\\u{0}\\u{0}\" and\n",
    "  <icmp_id> = \"\\u{0}\\u{0}\" and\n",
    "  <seq> = \"\\u{0}\\u{0}\" and\n",
    "  exists int num_bytes: (\n",
    "    count(<ip_packet>, \"<byte>\", num_bytes) and\n",
    "    str.to.int(num_bytes) < 40 and\n",
    "    256 * str.to_code(<length>.<byte>[1]) + \n",
    "      str.to_code(<length>.<byte>[2]) =\n",
    "         str.to.int(num_bytes)\n",
    "  ) and\n",
    "  internet_checksum(<icmp_packet>, <checksum>)\n",
    "'''"
   ]
  },
  {
   "cell_type": "markdown",
   "id": "04490d2e-f356-4bbf-9ddc-222b817f0237",
   "metadata": {},
   "source": [
    "We construct a solver object, this time with the grammar *and* then semantic constraints, and assert that we produced a valid ICMP Echo Request."
   ]
  },
  {
   "cell_type": "code",
   "execution_count": 17,
   "id": "ae9f88a7-46ca-4b39-bad3-34caa546687e",
   "metadata": {
    "tags": []
   },
   "outputs": [],
   "source": [
    "from isla.isla_predicates import COUNT_PREDICATE"
   ]
  },
  {
   "cell_type": "code",
   "execution_count": 18,
   "id": "3bc39ba3-1134-4ea5-85c7-a99369110258",
   "metadata": {
    "tags": []
   },
   "outputs": [],
   "source": [
    "solver = ISLaSolver(\n",
    "    icmp_grammar,\n",
    "    constraints,\n",
    "    semantic_predicates={COUNT_PREDICATE, INTERNET_CHECKSUM_PREDICATE},\n",
    "    max_number_free_instantiations=1,\n",
    "    max_number_smt_instantiations=10)"
   ]
  },
  {
   "cell_type": "code",
   "execution_count": 19,
   "id": "6f427919-e2df-46f4-bf9c-4dbdfb67f997",
   "metadata": {
    "tags": []
   },
   "outputs": [
    {
     "data": {
      "text/plain": [
       "'E\\x00\\x00 µ\\x80\\x00\\x006\\x01~@ý\\x9f«x!ô\\x08Þ\\x08\\x00õ\\x8b\\x00\\x00\\x00\\x00=èÄ\\x8b'"
      ]
     },
     "execution_count": 19,
     "metadata": {},
     "output_type": "execute_result"
    }
   ],
   "source": [
    "ip_string = str(solver.solve())\n",
    "ip_string"
   ]
  },
  {
   "cell_type": "code",
   "execution_count": 20,
   "id": "0d849e41-cb28-4e47-a3ca-14a0101ff15b",
   "metadata": {
    "tags": []
   },
   "outputs": [
    {
     "name": "stdout",
     "output_type": "stream",
     "text": [
      "###[ IP ]### \n",
      "  version   = 4\n",
      "  ihl       = 5\n",
      "  tos       = 0x0\n",
      "  len       = 32\n",
      "  id        = 46464\n",
      "  flags     = \n",
      "  frag      = 0\n",
      "  ttl       = 54\n",
      "  proto     = icmp\n",
      "  chksum    = 0x7e40\n",
      "  src       = 127.0.0.1\n",
      "  dst       = 127.0.0.1\n",
      "  \\options   \\\n",
      "###[ ICMP ]### \n",
      "     type      = echo-request\n",
      "     code      = 0\n",
      "     chksum    = 0xf58b\n",
      "     id        = 0x0\n",
      "     seq       = 0x0\n",
      "     unused    = ''\n",
      "###[ Raw ]### \n",
      "        load      = '=\\\\xe8ċ'\n",
      "\n"
     ]
    }
   ],
   "source": [
    "packet = ip_packet_from_string(ip_string)\n",
    "packet.show()"
   ]
  },
  {
   "cell_type": "markdown",
   "id": "697ec9ba-ed81-4430-ae88-755152ca8909",
   "metadata": {},
   "source": [
    "This packet now is a valid PING request:"
   ]
  },
  {
   "cell_type": "code",
   "execution_count": 21,
   "id": "13404dd3-1d25-4c09-abb2-c02dc1e8c379",
   "metadata": {
    "tags": []
   },
   "outputs": [
    {
     "data": {
      "text/plain": [
       "[scapy.layers.inet.IP, scapy.layers.inet.ICMP, scapy.packet.Raw]"
      ]
     },
     "execution_count": 21,
     "metadata": {},
     "output_type": "execute_result"
    }
   ],
   "source": [
    "packet.layers()"
   ]
  },
  {
   "cell_type": "code",
   "execution_count": 22,
   "id": "541027ef-9e2f-41b8-8ee7-ce3a3327fe76",
   "metadata": {
    "tags": []
   },
   "outputs": [
    {
     "data": {
      "text/plain": [
       "True"
      ]
     },
     "execution_count": 22,
     "metadata": {},
     "output_type": "execute_result"
    }
   ],
   "source": [
    "test_ping(packet)"
   ]
  },
  {
   "cell_type": "markdown",
   "id": "d0a8f97f-aa28-4e91-9943-02e4793e9634",
   "metadata": {},
   "source": [
    "Now, we would try to come up with this constraint set by combining some atomic *patterns.*\n",
    "The simplest one has the shape `<?NONTERMINAL> = \"<?STRING>\"` for two placeholders `<?NONTERMINAL>` and `<?STRING>` for some grammar nonterminal and string literal, respectively.\n",
    "For this demonstration, we consider an ad-hoc type of patterns:\n",
    "Functions that, when called without an argument, return either \"string\" or \"nonterminal\" to signal what kind of instantiation they expect, and when called with an argument, return a (partially) instantiated pattern.\n",
    "Some patterns require a grammar for `isla_parse` to work, so we add a grammar parameter."
   ]
  },
  {
   "cell_type": "code",
   "execution_count": 23,
   "id": "b1418564-c50f-473a-9cb0-1c1cb0931eef",
   "metadata": {},
   "outputs": [],
   "source": [
    "from typing import Callable, Union\n",
    "from isla.language import Formula, parse_isla, unparse_isla"
   ]
  },
  {
   "cell_type": "code",
   "execution_count": 24,
   "id": "10644903-5973-4147-bb85-cfaf82c378b7",
   "metadata": {},
   "outputs": [],
   "source": [
    "Pattern = Callable[[Optional[str], Optional[Grammar]], Union[str, 'Pattern', Formula]]"
   ]
  },
  {
   "cell_type": "markdown",
   "id": "5870d8aa-b31e-43e8-a0ec-975b57eff6b2",
   "metadata": {},
   "source": [
    "Below, you find a pattern implementation for the simple \"string equation\" pattern."
   ]
  },
  {
   "cell_type": "code",
   "execution_count": 25,
   "id": "a4cd8491-dbe6-4022-b1f5-f6b71bda8cb5",
   "metadata": {
    "tags": []
   },
   "outputs": [],
   "source": [
    "def equation_pattern(str_inst: Optional[str] = None, _ = None) -> Union[str, Pattern]:\n",
    "    if str_inst is None:\n",
    "        return \"string\"\n",
    "    \n",
    "    str_inst = \"\".join([f\"\\\\u{{{hex(ord(c))[2:]}}}\" for c in str_inst])\n",
    "    \n",
    "    def inner_pattern(nonterminal_inst: Optional[str] = None, _ = None) -> Union[str, Formula]:\n",
    "        if nonterminal_inst is None:\n",
    "            return \"nonterminal\"\n",
    "        return parse_isla(f'(= {nonterminal_inst} \"{str_inst}\")')\n",
    "    \n",
    "    return inner_pattern"
   ]
  },
  {
   "cell_type": "markdown",
   "id": "d8b4a0ee-b26b-4328-a81c-dc263cd9ee4f",
   "metadata": {},
   "source": [
    "Let us, step by step, reproduce the atomic constraint `<version_ihl> = \"\\u{45}\"`.\n",
    "Note that this simple equational constraint is syntactic sugar for an ISLa formula with a universal quantifier, so the string representation of the actual result we obtain will look a little differently."
   ]
  },
  {
   "cell_type": "code",
   "execution_count": 26,
   "id": "d12cdfbb-28c6-414d-a022-9ee0d6eba318",
   "metadata": {
    "tags": []
   },
   "outputs": [
    {
     "data": {
      "text/plain": [
       "'string'"
      ]
     },
     "execution_count": 26,
     "metadata": {},
     "output_type": "execute_result"
    }
   ],
   "source": [
    "equation_pattern()"
   ]
  },
  {
   "cell_type": "code",
   "execution_count": 27,
   "id": "0257b0ad-bcfd-414d-a402-e81c2414f8cd",
   "metadata": {
    "tags": []
   },
   "outputs": [
    {
     "data": {
      "text/plain": [
       "'nonterminal'"
      ]
     },
     "execution_count": 27,
     "metadata": {},
     "output_type": "execute_result"
    }
   ],
   "source": [
    "equation_pattern(\"\\x45\")()"
   ]
  },
  {
   "cell_type": "code",
   "execution_count": 28,
   "id": "ff456f06-17a6-4908-b57e-3e62b69d9389",
   "metadata": {
    "tags": []
   },
   "outputs": [
    {
     "data": {
      "text/plain": [
       "ForallFormula(BoundVariable(\"version_ihl\", \"<version_ihl>\"), Constant(\"start\", \"<start>\"), SMTFormula(version_ihl == \"E\", BoundVariable(\"version_ihl\", \"<version_ihl>\"), instantiated_variables=OrderedSet({}), substitutions={}))"
      ]
     },
     "execution_count": 28,
     "metadata": {},
     "output_type": "execute_result"
    }
   ],
   "source": [
    "equation_pattern(\"\\x45\")(\"<version_ihl>\")"
   ]
  },
  {
   "cell_type": "code",
   "execution_count": 29,
   "id": "b42feadd-2493-4905-87ba-d40d0a52cc12",
   "metadata": {
    "tags": []
   },
   "outputs": [
    {
     "name": "stdout",
     "output_type": "stream",
     "text": [
      "forall <version_ihl> version_ihl in start:\n",
      "  (= version_ihl \"E\")\n"
     ]
    }
   ],
   "source": [
    "print(unparse_isla(equation_pattern(\"\\x45\")(\"<version_ihl>\")))"
   ]
  },
  {
   "cell_type": "markdown",
   "id": "b5cf574f-d12e-4669-8a86-d844b845602f",
   "metadata": {},
   "source": [
    "And for a two-byte constraint:"
   ]
  },
  {
   "cell_type": "code",
   "execution_count": 30,
   "id": "280a6ecf-67d1-44b7-89d4-3dec34afe276",
   "metadata": {
    "tags": []
   },
   "outputs": [
    {
     "name": "stdout",
     "output_type": "stream",
     "text": [
      "forall <flags_offset> flags_offset in start:\n",
      "  (= flags_offset \"\\u{0}\\u{0}\")\n"
     ]
    }
   ],
   "source": [
    "print(unparse_isla(equation_pattern(\"\\x00\\x00\")(\"<flags_offset>\")))"
   ]
  },
  {
   "cell_type": "markdown",
   "id": "7bf290e9-36dd-4dc4-a72d-eabd704ef2d0",
   "metadata": {},
   "source": [
    "What remains are the patterns for length and Internet checksum."
   ]
  },
  {
   "cell_type": "code",
   "execution_count": 31,
   "id": "e89cd9df-5657-4476-b51e-8999fccbf286",
   "metadata": {
    "tags": []
   },
   "outputs": [],
   "source": [
    "def length_pattern(nonterminal_inst_1: Optional[str] = None, grammar: Optional[Grammar] = None) -> Union[str, Pattern]:\n",
    "    if nonterminal_inst_1 is None:\n",
    "        return \"nonterminal\"\n",
    "    \n",
    "    assert grammar is not None\n",
    "    \n",
    "    def inner_pattern_1(nonterminal_inst_2: Optional[str] = None, _ = None) -> Union[str, Pattern]:\n",
    "        if nonterminal_inst_2 is None:\n",
    "            return \"nonterminal\"\n",
    "    \n",
    "        def inner_pattern_2(nonterminal_inst_3: Optional[str] = None, _ = None) -> Union[str, Pattern]:\n",
    "            if nonterminal_inst_3 is None:\n",
    "                return \"nonterminal\"\n",
    "    \n",
    "            def inner_pattern_3(nonterminal_inst_4: Optional[str] = None, _ = None) -> Union[str, Formula]:\n",
    "                if nonterminal_inst_4 is None:\n",
    "                    return \"nonterminal\"\n",
    "                \n",
    "                return parse_isla(f'''\n",
    "exists int num_bytes: (\n",
    "  count({nonterminal_inst_1}, \"{nonterminal_inst_2}\", num_bytes) and\n",
    "  str.to.int(num_bytes) < 40 and\n",
    "  256 * str.to_code({nonterminal_inst_3}.{nonterminal_inst_4}[1]) + \n",
    "    str.to_code({nonterminal_inst_3}.{nonterminal_inst_4}[2]) =\n",
    "       str.to.int(num_bytes)\n",
    ")\n",
    "''', grammar=grammar, semantic_predicates={COUNT_PREDICATE})\n",
    "            \n",
    "            return inner_pattern_3\n",
    "        \n",
    "        return inner_pattern_2\n",
    "    \n",
    "    return inner_pattern_1"
   ]
  },
  {
   "cell_type": "code",
   "execution_count": 32,
   "id": "1d3e3d7b-cdd6-4bef-b933-3c9b6821a67e",
   "metadata": {
    "tags": []
   },
   "outputs": [
    {
     "name": "stdout",
     "output_type": "stream",
     "text": [
      "forall <ip_packet> ip_packet in start:\n",
      "  forall <length> length=\"{<byte> byte}{<byte> byte_0}\" in start:\n",
      "    exists int num_bytes:\n",
      "      ((count(ip_packet, \"<byte>\", num_bytes) and\n",
      "       (< (str.to.int num_bytes) 40)) and\n",
      "      (= (+ (* 256 (str.to_code byte)) (str.to_code byte_0)) (str.to.int num_bytes)))\n"
     ]
    }
   ],
   "source": [
    "print(unparse_isla(length_pattern(\"<ip_packet>\", icmp_grammar)(\"<byte>\")(\"<length>\")(\"<byte>\")))"
   ]
  },
  {
   "cell_type": "code",
   "execution_count": 33,
   "id": "64d3e34a-b412-4519-9c66-a010e35773ab",
   "metadata": {
    "tags": []
   },
   "outputs": [],
   "source": [
    "def internet_checksum_pattern(nonterminal_inst_1: Optional[str] = None, _ = None) -> Union[str, Pattern]:\n",
    "    if nonterminal_inst_1 is None:\n",
    "        return \"nonterminal\"\n",
    "    \n",
    "    def inner_pattern(nonterminal_inst_2: Optional[str] = None, _ = None) -> Union[str, Formula]:\n",
    "        if nonterminal_inst_2 is None:\n",
    "            return \"nonterminal\"\n",
    "        \n",
    "        return parse_isla(\n",
    "            f'internet_checksum({nonterminal_inst_1}, {nonterminal_inst_2})',\n",
    "            semantic_predicates={INTERNET_CHECKSUM_PREDICATE}\n",
    "        )\n",
    "    \n",
    "    return inner_pattern"
   ]
  },
  {
   "cell_type": "code",
   "execution_count": 34,
   "id": "d7e9c537-3c19-4d58-a407-1ff41c1503cd",
   "metadata": {
    "tags": []
   },
   "outputs": [
    {
     "name": "stdout",
     "output_type": "stream",
     "text": [
      "forall <checksum> checksum in start:\n",
      "  forall <icmp_packet> icmp_packet in start:\n",
      "    internet_checksum(icmp_packet, checksum)\n"
     ]
    }
   ],
   "source": [
    "print(unparse_isla(internet_checksum_pattern(\"<icmp_packet>\")(\"<checksum>\")))"
   ]
  },
  {
   "cell_type": "markdown",
   "id": "78cd4282-22b7-4af7-893a-19dc0091ae9b",
   "metadata": {},
   "source": [
    "All in all, we have a set of three patterns:"
   ]
  },
  {
   "cell_type": "code",
   "execution_count": 35,
   "id": "2925d603-2276-4ed9-b9a6-a1b262f68505",
   "metadata": {
    "tags": []
   },
   "outputs": [],
   "source": [
    "patterns = [\n",
    "    equation_pattern,\n",
    "    length_pattern,\n",
    "    internet_checksum_pattern,\n",
    "]"
   ]
  },
  {
   "cell_type": "markdown",
   "id": "6335a335-4419-417d-b975-fc5affc92ad5",
   "metadata": {},
   "source": [
    "Assuming for now that we \"magically\" learned about all the relevant string constants `\\u{0}`, `\\u{1}`, `\\u{8}`, `\\u{45}`, and `\\u{0}\\u{0}`, we still obtain a quite high large search space (even if we only consider actually relevant patterns, i.e., the three in our `patterns` set):"
   ]
  },
  {
   "cell_type": "code",
   "execution_count": 36,
   "id": "9a3026ba-7b1b-4322-8909-f965add57d87",
   "metadata": {
    "tags": []
   },
   "outputs": [],
   "source": [
    "constants = [\"\\x00\", \"\\x01\", \"\\x08\", \"\\x45\", \"\\x00\\x00\"]"
   ]
  },
  {
   "cell_type": "code",
   "execution_count": 37,
   "id": "b8e92b0c-a4f8-4102-820d-d091620f6ab4",
   "metadata": {},
   "outputs": [],
   "source": [
    "from typing import List"
   ]
  },
  {
   "cell_type": "code",
   "execution_count": 38,
   "id": "e8260cd9-5647-45b5-abfd-3acc72903875",
   "metadata": {
    "tags": []
   },
   "outputs": [],
   "source": [
    "def instantiate_patterns(patterns: List[Pattern], grammar: Grammar) -> List[Formula]:\n",
    "    atomic_candidate_constraints = []\n",
    "    queue = list(patterns)\n",
    "\n",
    "    while queue:\n",
    "        pattern = queue.pop()\n",
    "        if isinstance(pattern, Formula):\n",
    "            atomic_candidate_constraints.append(pattern)\n",
    "            continue\n",
    "        \n",
    "        try:\n",
    "            if pattern() == \"string\":\n",
    "                for constant in constants:\n",
    "                    queue.append(pattern(constant, grammar))\n",
    "            else:\n",
    "                assert pattern() == \"nonterminal\"\n",
    "                for nonterminal in grammar:\n",
    "                    queue.append(pattern(nonterminal, grammar))\n",
    "        except SyntaxError:\n",
    "            continue\n",
    "\n",
    "    return atomic_candidate_constraints"
   ]
  },
  {
   "cell_type": "code",
   "execution_count": 39,
   "id": "209b4525-6b6c-4eb7-b291-cee9314ff6b2",
   "metadata": {
    "tags": []
   },
   "outputs": [],
   "source": [
    "from isla.language import parse_bnf"
   ]
  },
  {
   "cell_type": "code",
   "execution_count": 40,
   "id": "4a4c24b4-ae4d-49ea-828a-375813ba1d3b",
   "metadata": {
    "tags": []
   },
   "outputs": [],
   "source": [
    "instantiations = instantiate_patterns(patterns, parse_bnf(icmp_grammar))"
   ]
  },
  {
   "cell_type": "code",
   "execution_count": 41,
   "id": "c670d21b-19a3-4e79-9554-cc1ba41e3236",
   "metadata": {
    "tags": []
   },
   "outputs": [
    {
     "data": {
      "text/plain": [
       "644"
      ]
     },
     "execution_count": 41,
     "metadata": {},
     "output_type": "execute_result"
    }
   ],
   "source": [
    "len(instantiations)"
   ]
  },
  {
   "cell_type": "markdown",
   "id": "bab3fbb2-8719-4439-91d4-edff051462c4",
   "metadata": {},
   "source": [
    "To come up with the constants, we could capture some valid ICMP Echo Request packets and collect the values they contain (or use scrapy to create some packets).\n",
    "Ideally, we would somehow only instantiate \"suitable\" constants; e.g., in an equation, only those found for the nonterminal they are compared agains would be chosen.\n",
    "Generating with all combinations of n elements of `instantiations`, where the correct n is even unknown, seems not feasible.\n",
    "What we would do is to take again valid ICMP packets obtained from an arbitrary, trustworthy source and filter those constraints that do not hold for one of these packets.\n",
    "\n",
    "That way, we would be able to find a conjunction of sensible constraints.\n",
    "Note that this conjunction could be insufficient for generating *only* valid constraints, e.g., because a required pattern is not present.\n",
    "Furthermore, some pattern instantiations might hold *coincidentally,* i.e., are not required for valid constraints.\n",
    "To eliminate these possiblities, we would use a constraint set for generation and check if it produces valid constraints.\n",
    "Afterward, we could remove constraints and see if the generated results are *still* valid.\n",
    "\n",
    "So, here's a valid packet generated by scapy:"
   ]
  },
  {
   "cell_type": "code",
   "execution_count": 42,
   "id": "23e98385-9875-4633-aa8d-fec08881cfe1",
   "metadata": {
    "tags": []
   },
   "outputs": [
    {
     "data": {
      "text/plain": [
       "b'E\\x00\\x00\\x1c\\x00\\x01\\x00\\x00@\\x01|\\xde\\x7f\\x00\\x00\\x01\\x7f\\x00\\x00\\x01\\x08\\x00\\xf7\\xff\\x00\\x00\\x00\\x00'"
      ]
     },
     "execution_count": 42,
     "metadata": {},
     "output_type": "execute_result"
    }
   ],
   "source": [
    "one_good_packet = scapy.raw(scapy.IP()/scapy.ICMP())\n",
    "one_good_packet"
   ]
  },
  {
   "cell_type": "code",
   "execution_count": 43,
   "id": "a031b051-4d71-4831-9fd7-48efebccbc61",
   "metadata": {
    "tags": []
   },
   "outputs": [
    {
     "name": "stdout",
     "output_type": "stream",
     "text": [
      "###[ IP ]### \n",
      "  version   = 4\n",
      "  ihl       = 5\n",
      "  tos       = 0x0\n",
      "  len       = 28\n",
      "  id        = 1\n",
      "  flags     = \n",
      "  frag      = 0\n",
      "  ttl       = 64\n",
      "  proto     = icmp\n",
      "  chksum    = 0x7cde\n",
      "  src       = 127.0.0.1\n",
      "  dst       = 127.0.0.1\n",
      "  \\options   \\\n",
      "###[ ICMP ]### \n",
      "     type      = echo-request\n",
      "     code      = 0\n",
      "     chksum    = 0xf7ff\n",
      "     id        = 0x0\n",
      "     seq       = 0x0\n",
      "     unused    = ''\n",
      "\n"
     ]
    }
   ],
   "source": [
    "scapy.IP(one_good_packet).show()"
   ]
  },
  {
   "cell_type": "markdown",
   "id": "383fb2b0-a4ea-460d-ab6d-cc06522b3a9f",
   "metadata": {},
   "source": [
    "We can parse this packet using an ISLaSolver object."
   ]
  },
  {
   "cell_type": "code",
   "execution_count": 44,
   "id": "f517a482-a96f-4715-a347-1754672fa5d4",
   "metadata": {
    "tags": []
   },
   "outputs": [],
   "source": [
    "parsed_good_input = ISLaSolver(icmp_grammar).parse(one_good_packet.decode(\"latin1\"))"
   ]
  },
  {
   "cell_type": "markdown",
   "id": "518966ed-a5c2-405c-a922-0b0d4da2c83a",
   "metadata": {},
   "source": [
    "Now, we filter out all instantiations that fail this particular input."
   ]
  },
  {
   "cell_type": "code",
   "execution_count": 45,
   "id": "963c54b2-a46a-4a5b-96a5-d8781d334550",
   "metadata": {
    "tags": []
   },
   "outputs": [],
   "source": [
    "from isla.helpers import Exceptional"
   ]
  },
  {
   "cell_type": "code",
   "execution_count": 46,
   "id": "5894c50d-d461-464e-89b9-0d7f5ca8528f",
   "metadata": {
    "tags": []
   },
   "outputs": [],
   "source": [
    "candidate_patterns = [\n",
    "    constraint\n",
    "    for constraint in instantiations\n",
    "    if Exceptional.of(\n",
    "        lambda:\n",
    "            ISLaSolver(\n",
    "                icmp_grammar, \n",
    "                constraint, \n",
    "                semantic_predicates={INTERNET_CHECKSUM_PREDICATE, COUNT_PREDICATE}\n",
    "            ).check(parsed_good_input) is True\n",
    "    ).recover(lambda _: False, Exception).get()\n",
    "]"
   ]
  },
  {
   "cell_type": "code",
   "execution_count": 47,
   "id": "f4ef3e92-ed82-42ad-886c-19386ec38a56",
   "metadata": {
    "tags": []
   },
   "outputs": [
    {
     "data": {
      "text/plain": [
       "79"
      ]
     },
     "execution_count": 47,
     "metadata": {},
     "output_type": "execute_result"
    }
   ],
   "source": [
    "len(candidate_patterns)"
   ]
  },
  {
   "cell_type": "code",
   "execution_count": 48,
   "id": "6fc71994-10f8-4400-bc17-932c043a6909",
   "metadata": {
    "tags": []
   },
   "outputs": [],
   "source": [
    "import random"
   ]
  },
  {
   "cell_type": "code",
   "execution_count": 49,
   "id": "c7bf9b4b-e363-4ce2-98f7-d99e927a3cc0",
   "metadata": {
    "tags": []
   },
   "outputs": [
    {
     "name": "stdout",
     "output_type": "stream",
     "text": [
      "forall <type> type in start:\n",
      "  (= type \")\n",
      "\n",
      "forall <seq> seq in start:\n",
      "  forall <ip_packet> ip_packet in start:\n",
      "    internet_checksum(ip_packet, seq)\n",
      "\n",
      "forall <length> length in start:\n",
      "  forall <langle> langle in start:\n",
      "    internet_checksum(langle, length)\n",
      "\n",
      "forall <ip_packet> ip_packet in start:\n",
      "  forall <langle> langle in start:\n",
      "    internet_checksum(langle, ip_packet)\n",
      "\n",
      "forall <flags_offset> flags_offset in start:\n",
      "  forall <start> start in start:\n",
      "    internet_checksum(start, flags_offset)\n",
      "\n",
      "forall <dest_id> dest_id in start:\n",
      "  forall <langle> langle in start:\n",
      "    internet_checksum(langle, dest_id)\n",
      "\n",
      "forall <bytes> bytes in start:\n",
      "  forall <langle> langle in start:\n",
      "    internet_checksum(langle, bytes)\n",
      "\n",
      "forall <langle> langle in start:\n",
      "  forall <ip_id> ip_id in start:\n",
      "    internet_checksum(ip_id, langle)\n",
      "\n",
      "forall <checksum> checksum in start:\n",
      "  forall <ip_packet> ip_packet in start:\n",
      "    internet_checksum(ip_packet, checksum)\n",
      "\n",
      "forall <langle> langle in start:\n",
      "  forall <seq> seq in start:\n",
      "    internet_checksum(seq, langle)\n",
      "\n",
      "forall <ip_checksum> ip_checksum in start:\n",
      "  forall <ip_header> ip_header in start:\n",
      "    internet_checksum(ip_header, ip_checksum)\n",
      "\n",
      "forall <icmp_id> icmp_id in start:\n",
      "  forall <icmp_packet> icmp_packet in start:\n",
      "    internet_checksum(icmp_packet, icmp_id)\n",
      "\n",
      "forall <icmp_id> icmp_id in start:\n",
      "  forall <start> start in start:\n",
      "    internet_checksum(start, icmp_id)\n",
      "\n",
      "forall <langle> langle in start:\n",
      "  forall <type> type in start:\n",
      "    internet_checksum(type, langle)\n",
      "\n",
      "forall <source_ip> source_ip in start:\n",
      "  forall <langle> langle in start:\n",
      "    internet_checksum(langle, source_ip)\n",
      "\n",
      "forall <code> code in start:\n",
      "  forall <langle> langle in start:\n",
      "    internet_checksum(langle, code)\n",
      "\n",
      "forall <langle> langle in start:\n",
      "  (= langle \"E\")\n",
      "\n",
      "forall <ip_id> ip_id in start:\n",
      "  forall <start> start in start:\n",
      "    internet_checksum(start, ip_id)\n",
      "\n",
      "forall <langle> langle in start:\n",
      "  (= langle \"E\")\n",
      "\n",
      "forall <code> code in start:\n",
      "  forall <langle> langle in start:\n",
      "    internet_checksum(langle, code)\n"
     ]
    }
   ],
   "source": [
    "print(\"\\n\\n\".join(map(unparse_isla, random.choices(candidate_patterns, k=20))))"
   ]
  },
  {
   "cell_type": "markdown",
   "id": "df47a4f6-d2d6-4f9b-ac32-6c2862f4157d",
   "metadata": {},
   "source": [
    "In this set, there are all the really useful instantiations we need; on the other hand, it also contains \"vacuously satisfied\" constraints that only hold because the nonterminal the constraint quantifies over is absent in our example input. One such constraint is\n",
    "\n",
    "```\n",
    "forall <langle> langle in start:\n",
    "  forall <ip_id> ip_id in start:\n",
    "    internet_checksum(ip_id, langle)\n",
    "```\n",
    "\n",
    "This is simply true because there is no `<langle>` in `parsed_good_input`."
   ]
  },
  {
   "cell_type": "markdown",
   "id": "c9110774-488e-4dfe-87b5-0dbde3efaa29",
   "metadata": {},
   "source": [
    "We can now first check whether the combination of all candidates is sufficiently strong; afterward, we can try to reduce the constraint set to the necessary constraints.\n",
    "\n",
    "The sketched primitive approach should be improved with a *systematic* solution to the search space explosion.\n",
    "In the ISLearn tool, some measures are already included.\n",
    "For example, we restrict the search space of string constants if a constant occurs in an equation with a nonterminal to the constants seen in that nonterminal's contexts in the training set.\n",
    "Yet, this is not satisfactory.\n",
    "\n",
    "ICMP is an example where we only get a binary feedback when using constraint candidates for generation:\n",
    "Either, we have a sufficiently strong constraint set and a PING gets through, or the message is silently dropped.\n",
    "This lack of incremental feedback, which is not present in scenarios like learning programming language constraints, constitutes a challenge for blackbox learning.\n",
    "Yet, positive (and potentially also negative) training samples can help to filter out certain candiate instantiations, as we have seen."
   ]
  }
 ],
 "metadata": {
  "kernelspec": {
   "display_name": "ICMP_Demo",
   "language": "python",
   "name": "icmp_demo"
  },
  "language_info": {
   "codemirror_mode": {
    "name": "ipython",
    "version": 3
   },
   "file_extension": ".py",
   "mimetype": "text/x-python",
   "name": "python",
   "nbconvert_exporter": "python",
   "pygments_lexer": "ipython3",
   "version": "3.10.11"
  }
 },
 "nbformat": 4,
 "nbformat_minor": 5
}
